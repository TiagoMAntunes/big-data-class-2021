{
 "cells": [
  {
   "cell_type": "code",
   "execution_count": 1,
   "id": "1ad68df1",
   "metadata": {},
   "outputs": [],
   "source": [
    "import numpy as np\n",
    "import pandas as pd"
   ]
  },
  {
   "cell_type": "code",
   "execution_count": 2,
   "id": "2a36e22b",
   "metadata": {},
   "outputs": [],
   "source": [
    "roadnet= np.fromfile('roadNet-PA.graph', dtype=np.int32).reshape(-1,2)\n",
    "synthesized = np.fromfile('synthesized-1b.graph', dtype=np.int32).reshape(-1,2)"
   ]
  },
  {
   "cell_type": "code",
   "execution_count": 3,
   "id": "85e32957",
   "metadata": {},
   "outputs": [
    {
     "data": {
      "text/html": [
       "<div>\n",
       "<style scoped>\n",
       "    .dataframe tbody tr th:only-of-type {\n",
       "        vertical-align: middle;\n",
       "    }\n",
       "\n",
       "    .dataframe tbody tr th {\n",
       "        vertical-align: top;\n",
       "    }\n",
       "\n",
       "    .dataframe thead th {\n",
       "        text-align: right;\n",
       "    }\n",
       "</style>\n",
       "<table border=\"1\" class=\"dataframe\">\n",
       "  <thead>\n",
       "    <tr style=\"text-align: right;\">\n",
       "      <th></th>\n",
       "      <th>0</th>\n",
       "      <th>1</th>\n",
       "    </tr>\n",
       "  </thead>\n",
       "  <tbody>\n",
       "    <tr>\n",
       "      <th>0</th>\n",
       "      <td>0</td>\n",
       "      <td>1</td>\n",
       "    </tr>\n",
       "    <tr>\n",
       "      <th>1</th>\n",
       "      <td>0</td>\n",
       "      <td>6309</td>\n",
       "    </tr>\n",
       "    <tr>\n",
       "      <th>2</th>\n",
       "      <td>0</td>\n",
       "      <td>6353</td>\n",
       "    </tr>\n",
       "    <tr>\n",
       "      <th>3</th>\n",
       "      <td>1</td>\n",
       "      <td>0</td>\n",
       "    </tr>\n",
       "    <tr>\n",
       "      <th>4</th>\n",
       "      <td>6353</td>\n",
       "      <td>0</td>\n",
       "    </tr>\n",
       "    <tr>\n",
       "      <th>...</th>\n",
       "      <td>...</td>\n",
       "      <td>...</td>\n",
       "    </tr>\n",
       "    <tr>\n",
       "      <th>3083791</th>\n",
       "      <td>1090892</td>\n",
       "      <td>1090891</td>\n",
       "    </tr>\n",
       "    <tr>\n",
       "      <th>3083792</th>\n",
       "      <td>1090901</td>\n",
       "      <td>1090894</td>\n",
       "    </tr>\n",
       "    <tr>\n",
       "      <th>3083793</th>\n",
       "      <td>1090902</td>\n",
       "      <td>1090894</td>\n",
       "    </tr>\n",
       "    <tr>\n",
       "      <th>3083794</th>\n",
       "      <td>1090903</td>\n",
       "      <td>1090894</td>\n",
       "    </tr>\n",
       "    <tr>\n",
       "      <th>3083795</th>\n",
       "      <td>1090900</td>\n",
       "      <td>1090898</td>\n",
       "    </tr>\n",
       "  </tbody>\n",
       "</table>\n",
       "<p>3083796 rows × 2 columns</p>\n",
       "</div>"
      ],
      "text/plain": [
       "               0        1\n",
       "0              0        1\n",
       "1              0     6309\n",
       "2              0     6353\n",
       "3              1        0\n",
       "4           6353        0\n",
       "...          ...      ...\n",
       "3083791  1090892  1090891\n",
       "3083792  1090901  1090894\n",
       "3083793  1090902  1090894\n",
       "3083794  1090903  1090894\n",
       "3083795  1090900  1090898\n",
       "\n",
       "[3083796 rows x 2 columns]"
      ]
     },
     "execution_count": 3,
     "metadata": {},
     "output_type": "execute_result"
    }
   ],
   "source": [
    "roadnet_df = pd.DataFrame(roadnet)\n",
    "roadnet_df"
   ]
  },
  {
   "cell_type": "code",
   "execution_count": 4,
   "id": "9960f2c5",
   "metadata": {},
   "outputs": [],
   "source": [
    "roadnet_dist = roadnet_df[1].value_counts().value_counts()"
   ]
  },
  {
   "cell_type": "code",
   "execution_count": 5,
   "id": "43601a2c",
   "metadata": {},
   "outputs": [
    {
     "data": {
      "text/plain": [
       "<AxesSubplot:xlabel='In-Degree', ylabel='# Nodes'>"
      ]
     },
     "execution_count": 5,
     "metadata": {},
     "output_type": "execute_result"
    },
    {
     "data": {
      "image/png": "[encoded data removed]",
      "text/plain": [
       "<Figure size 432x288 with 1 Axes>"
      ]
     },
     "metadata": {
      "needs_background": "light"
     },
     "output_type": "display_data"
    }
   ],
   "source": [
    "roadnet_dist.sort_index().plot.bar(logy=True, xlabel='In-Degree', ylabel='# Nodes')"
   ]
  },
  {
   "cell_type": "code",
   "execution_count": 6,
   "id": "b68c0dcb",
   "metadata": {},
   "outputs": [],
   "source": [
    "roadnet_dist = roadnet_df[1].value_counts()"
   ]
  },
  {
   "cell_type": "code",
   "execution_count": 7,
   "id": "7d0bb9de",
   "metadata": {},
   "outputs": [
    {
     "data": {
      "text/plain": [
       "count    1.088092e+06\n",
       "mean     2.834132e+00\n",
       "std      1.016930e+00\n",
       "min      1.000000e+00\n",
       "25%      2.000000e+00\n",
       "50%      3.000000e+00\n",
       "75%      4.000000e+00\n",
       "max      9.000000e+00\n",
       "Name: 1, dtype: float64"
      ]
     },
     "execution_count": 7,
     "metadata": {},
     "output_type": "execute_result"
    }
   ],
   "source": [
    "roadnet_dist.describe()"
   ]
  },
  {
   "cell_type": "code",
   "execution_count": 8,
   "id": "152eeef5",
   "metadata": {},
   "outputs": [
    {
     "data": {
      "text/plain": [
       "4"
      ]
     },
     "execution_count": 8,
     "metadata": {},
     "output_type": "execute_result"
    }
   ],
   "source": [
    "roadnet_dist.quantile(q=0.94, interpolation='nearest')"
   ]
  },
  {
   "cell_type": "code",
   "execution_count": 9,
   "id": "81a58095",
   "metadata": {},
   "outputs": [
    {
     "data": {
      "text/html": [
       "<div>\n",
       "<style scoped>\n",
       "    .dataframe tbody tr th:only-of-type {\n",
       "        vertical-align: middle;\n",
       "    }\n",
       "\n",
       "    .dataframe tbody tr th {\n",
       "        vertical-align: top;\n",
       "    }\n",
       "\n",
       "    .dataframe thead th {\n",
       "        text-align: right;\n",
       "    }\n",
       "</style>\n",
       "<table border=\"1\" class=\"dataframe\">\n",
       "  <thead>\n",
       "    <tr style=\"text-align: right;\">\n",
       "      <th></th>\n",
       "      <th>0</th>\n",
       "      <th>1</th>\n",
       "    </tr>\n",
       "  </thead>\n",
       "  <tbody>\n",
       "    <tr>\n",
       "      <th>0</th>\n",
       "      <td>0</td>\n",
       "      <td>8099</td>\n",
       "    </tr>\n",
       "    <tr>\n",
       "      <th>1</th>\n",
       "      <td>0</td>\n",
       "      <td>699624</td>\n",
       "    </tr>\n",
       "    <tr>\n",
       "      <th>2</th>\n",
       "      <td>0</td>\n",
       "      <td>890784</td>\n",
       "    </tr>\n",
       "    <tr>\n",
       "      <th>3</th>\n",
       "      <td>1</td>\n",
       "      <td>208276</td>\n",
       "    </tr>\n",
       "    <tr>\n",
       "      <th>4</th>\n",
       "      <td>1</td>\n",
       "      <td>447854</td>\n",
       "    </tr>\n",
       "    <tr>\n",
       "      <th>...</th>\n",
       "      <td>...</td>\n",
       "      <td>...</td>\n",
       "    </tr>\n",
       "    <tr>\n",
       "      <th>4780359</th>\n",
       "      <td>999588</td>\n",
       "      <td>999987</td>\n",
       "    </tr>\n",
       "    <tr>\n",
       "      <th>4780360</th>\n",
       "      <td>999597</td>\n",
       "      <td>999828</td>\n",
       "    </tr>\n",
       "    <tr>\n",
       "      <th>4780361</th>\n",
       "      <td>999849</td>\n",
       "      <td>999958</td>\n",
       "    </tr>\n",
       "    <tr>\n",
       "      <th>4780362</th>\n",
       "      <td>999887</td>\n",
       "      <td>999958</td>\n",
       "    </tr>\n",
       "    <tr>\n",
       "      <th>4780363</th>\n",
       "      <td>999928</td>\n",
       "      <td>999952</td>\n",
       "    </tr>\n",
       "  </tbody>\n",
       "</table>\n",
       "<p>4780364 rows × 2 columns</p>\n",
       "</div>"
      ],
      "text/plain": [
       "              0       1\n",
       "0             0    8099\n",
       "1             0  699624\n",
       "2             0  890784\n",
       "3             1  208276\n",
       "4             1  447854\n",
       "...         ...     ...\n",
       "4780359  999588  999987\n",
       "4780360  999597  999828\n",
       "4780361  999849  999958\n",
       "4780362  999887  999958\n",
       "4780363  999928  999952\n",
       "\n",
       "[4780364 rows x 2 columns]"
      ]
     },
     "execution_count": 9,
     "metadata": {},
     "output_type": "execute_result"
    }
   ],
   "source": [
    "synthesized_df = pd.DataFrame(synthesized)\n",
    "synthesized_df"
   ]
  },
  {
   "cell_type": "code",
   "execution_count": 10,
   "id": "df28b560",
   "metadata": {},
   "outputs": [],
   "source": [
    "synthesized_dist = synthesized_df[1].value_counts()"
   ]
  },
  {
   "cell_type": "code",
   "execution_count": 11,
   "id": "989c5151",
   "metadata": {},
   "outputs": [
    {
     "data": {
      "text/plain": [
       "count    689558.000000\n",
       "mean          6.932505\n",
       "std         139.155045\n",
       "min           1.000000\n",
       "25%           1.000000\n",
       "50%           2.000000\n",
       "75%           3.000000\n",
       "max       53554.000000\n",
       "Name: 1, dtype: float64"
      ]
     },
     "execution_count": 11,
     "metadata": {},
     "output_type": "execute_result"
    }
   ],
   "source": [
    "synthesized_dist.describe()"
   ]
  },
  {
   "cell_type": "code",
   "execution_count": 12,
   "id": "44c2d265",
   "metadata": {},
   "outputs": [
    {
     "data": {
      "text/plain": [
       "12"
      ]
     },
     "execution_count": 12,
     "metadata": {},
     "output_type": "execute_result"
    }
   ],
   "source": [
    "synthesized_dist.quantile(q=0.94, interpolation='nearest')"
   ]
  },
  {
   "cell_type": "code",
   "execution_count": 13,
   "id": "351fb924",
   "metadata": {},
   "outputs": [
    {
     "data": {
      "text/plain": [
       "['edge-2-twitter.out.replication',\n",
       " 'greedy-2-twitter.out.replication',\n",
       " 'hybrid-2-twitter.out.replication',\n",
       " 'edge-8-twitter.out.replication',\n",
       " 'greedy-4-twitter.out.replication',\n",
       " 'vertex-48-twitter.out.replication',\n",
       " 'vertex-4-twitter.out.replication',\n",
       " 'hybrid-8-twitter.out.replication',\n",
       " 'edge-48-twitter.out.replication',\n",
       " 'greedy-8-twitter.out.replication',\n",
       " 'vertex-8-twitter.out.replication',\n",
       " 'greedy-48-twitter.out.replication',\n",
       " 'hybrid-4-twitter.out.replication',\n",
       " 'edge-4-twitter.out.replication',\n",
       " 'vertex-2-twitter.out.replication',\n",
       " 'hybrid-48-twitter.out.replication']"
      ]
     },
     "execution_count": 13,
     "metadata": {},
     "output_type": "execute_result"
    }
   ],
   "source": [
    "import os\n",
    "files = os.listdir('results/replication/')\n",
    "files"
   ]
  },
  {
   "cell_type": "code",
   "execution_count": 14,
   "id": "61ca2808",
   "metadata": {},
   "outputs": [
    {
     "data": {
      "text/plain": [
       "[['edge', '2'],\n",
       " ['greedy', '2'],\n",
       " ['hybrid', '2'],\n",
       " ['edge', '8'],\n",
       " ['greedy', '4'],\n",
       " ['vertex', '48'],\n",
       " ['vertex', '4'],\n",
       " ['hybrid', '8'],\n",
       " ['edge', '48'],\n",
       " ['greedy', '8'],\n",
       " ['vertex', '8'],\n",
       " ['greedy', '48'],\n",
       " ['hybrid', '4'],\n",
       " ['edge', '4'],\n",
       " ['vertex', '2'],\n",
       " ['hybrid', '48']]"
      ]
     },
     "execution_count": 14,
     "metadata": {},
     "output_type": "execute_result"
    }
   ],
   "source": [
    "files_info = list(map(lambda x: x.split('.')[0].split('-')[:-1], files))\n",
    "files_info"
   ]
  },
  {
   "cell_type": "code",
   "execution_count": 15,
   "id": "3294bfe1",
   "metadata": {},
   "outputs": [
    {
     "data": {
      "text/plain": [
       "[1.9626266,\n",
       " 1.3707672,\n",
       " 1.5856625,\n",
       " 6.045546,\n",
       " 1.8157969,\n",
       " 18.159407,\n",
       " 3.637667,\n",
       " 2.8850982,\n",
       " 16.090775,\n",
       " 2.351704,\n",
       " 6.309912,\n",
       " 4.993105,\n",
       " 2.1990874,\n",
       " 3.583493,\n",
       " 1.9621427,\n",
       " 5.66194]"
      ]
     },
     "execution_count": 15,
     "metadata": {},
     "output_type": "execute_result"
    }
   ],
   "source": [
    "replication = []\n",
    "for file in files:\n",
    "    with open(f'results/replication/{file}') as f:\n",
    "        replication.append(float(f.read().strip()))\n",
    "        \n",
    "replication"
   ]
  },
  {
   "cell_type": "code",
   "execution_count": 16,
   "id": "acf967c1",
   "metadata": {},
   "outputs": [
    {
     "data": {
      "text/plain": [
       "[('edge', 2, 1.9626266),\n",
       " ('greedy', 2, 1.3707672),\n",
       " ('hybrid', 2, 1.5856625),\n",
       " ('edge', 8, 6.045546),\n",
       " ('greedy', 4, 1.8157969),\n",
       " ('vertex', 48, 18.159407),\n",
       " ('vertex', 4, 3.637667),\n",
       " ('hybrid', 8, 2.8850982),\n",
       " ('edge', 48, 16.090775),\n",
       " ('greedy', 8, 2.351704),\n",
       " ('vertex', 8, 6.309912),\n",
       " ('greedy', 48, 4.993105),\n",
       " ('hybrid', 4, 2.1990874),\n",
       " ('edge', 4, 3.583493),\n",
       " ('vertex', 2, 1.9621427),\n",
       " ('hybrid', 48, 5.66194)]"
      ]
     },
     "execution_count": 16,
     "metadata": {},
     "output_type": "execute_result"
    }
   ],
   "source": [
    "data = list(map(lambda x: (x[0][0], int(x[0][1]),x[1]), zip(files_info, replication)))\n",
    "data"
   ]
  },
  {
   "cell_type": "code",
   "execution_count": 17,
   "id": "6e918b60",
   "metadata": {},
   "outputs": [
    {
     "data": {
      "text/html": [
       "<div>\n",
       "<style scoped>\n",
       "    .dataframe tbody tr th:only-of-type {\n",
       "        vertical-align: middle;\n",
       "    }\n",
       "\n",
       "    .dataframe tbody tr th {\n",
       "        vertical-align: top;\n",
       "    }\n",
       "\n",
       "    .dataframe thead th {\n",
       "        text-align: right;\n",
       "    }\n",
       "</style>\n",
       "<table border=\"1\" class=\"dataframe\">\n",
       "  <thead>\n",
       "    <tr style=\"text-align: right;\">\n",
       "      <th>Method</th>\n",
       "      <th>edge</th>\n",
       "      <th>vertex</th>\n",
       "      <th>greedy</th>\n",
       "      <th>hybrid</th>\n",
       "    </tr>\n",
       "    <tr>\n",
       "      <th>#Machines</th>\n",
       "      <th></th>\n",
       "      <th></th>\n",
       "      <th></th>\n",
       "      <th></th>\n",
       "    </tr>\n",
       "  </thead>\n",
       "  <tbody>\n",
       "    <tr>\n",
       "      <th>2</th>\n",
       "      <td>1.962627</td>\n",
       "      <td>1.962143</td>\n",
       "      <td>1.370767</td>\n",
       "      <td>1.585662</td>\n",
       "    </tr>\n",
       "    <tr>\n",
       "      <th>4</th>\n",
       "      <td>3.583493</td>\n",
       "      <td>3.637667</td>\n",
       "      <td>1.815797</td>\n",
       "      <td>2.199087</td>\n",
       "    </tr>\n",
       "    <tr>\n",
       "      <th>8</th>\n",
       "      <td>6.045546</td>\n",
       "      <td>6.309912</td>\n",
       "      <td>2.351704</td>\n",
       "      <td>2.885098</td>\n",
       "    </tr>\n",
       "    <tr>\n",
       "      <th>48</th>\n",
       "      <td>16.090775</td>\n",
       "      <td>18.159407</td>\n",
       "      <td>4.993105</td>\n",
       "      <td>5.661940</td>\n",
       "    </tr>\n",
       "  </tbody>\n",
       "</table>\n",
       "</div>"
      ],
      "text/plain": [
       "Method          edge     vertex    greedy    hybrid\n",
       "#Machines                                          \n",
       "2           1.962627   1.962143  1.370767  1.585662\n",
       "4           3.583493   3.637667  1.815797  2.199087\n",
       "8           6.045546   6.309912  2.351704  2.885098\n",
       "48         16.090775  18.159407  4.993105  5.661940"
      ]
     },
     "execution_count": 17,
     "metadata": {},
     "output_type": "execute_result"
    }
   ],
   "source": [
    "import pandas as pd\n",
    "df = pd.DataFrame(data, columns=['Method','#Machines', 'Replication']).sort_values(['Method', '#Machines'])\n",
    "df = df.pivot(index='#Machines', columns='Method', values='Replication').sort_values('#Machines')\n",
    "df = df[['edge','vertex','greedy','hybrid']]\n",
    "df"
   ]
  },
  {
   "cell_type": "code",
   "execution_count": 18,
   "id": "0f158e3a",
   "metadata": {},
   "outputs": [
    {
     "data": {
      "image/png": "[encoded data removed]",
      "text/plain": [
       "<Figure size 432x288 with 1 Axes>"
      ]
     },
     "metadata": {
      "needs_background": "light"
     },
     "output_type": "display_data"
    }
   ],
   "source": [
    "ax = df.plot.bar(rot=0)\n",
    "fig = ax.get_figure()\n",
    "fig.savefig('replication.png')"
   ]
  },
  {
   "cell_type": "code",
   "execution_count": 147,
   "id": "b77ab708",
   "metadata": {},
   "outputs": [
    {
     "data": {
      "text/plain": [
       "[('edge', 2, '12m6.433s'),\n",
       " ('edge', 4, '13m22.580s'),\n",
       " ('edge', 8, '14m7.557s'),\n",
       " ('vertex', 2, '12m10.116s'),\n",
       " ('vertex', 4, '12m13.724s'),\n",
       " ('vertex', 8, '12m32.874s'),\n",
       " ('hybrid', 2, '11m52.545s'),\n",
       " ('hybrid', 4, '12m34.444s'),\n",
       " ('hybrid', 8, '12m24.732s'),\n",
       " ('greedy', 2, '20m31.258s'),\n",
       " ('greedy', 4, '18m39.782s'),\n",
       " ('greedy', 8, '22m5.591s')]"
      ]
     },
     "execution_count": 147,
     "metadata": {},
     "output_type": "execute_result"
    }
   ],
   "source": [
    "times = \"\"\"12m6.433s\n",
    "13m22.580s\n",
    "14m7.557s\n",
    "12m10.116s\n",
    "12m13.724s\n",
    "12m32.874s\n",
    "11m52.545s\n",
    "12m34.444s\n",
    "12m24.732s\n",
    "20m31.258s\n",
    "18m39.782s\n",
    "22m5.591s\"\"\".split()\n",
    "names = \"\"\"edge-2-twitter.out\n",
    "edge-4-twitter.out\n",
    "edge-8-twitter.out\n",
    "vertex-2-twitter.out\n",
    "vertex-4-twitter.out\n",
    "vertex-8-twitter.out\n",
    "hybrid-2-twitter.out\n",
    "hybrid-4-twitter.out\n",
    "hybrid-8-twitter.out\n",
    "greedy-2-twitter.out\n",
    "greedy-4-twitter.out\n",
    "greedy-8-twitter.out\"\"\".split()\n",
    "data= list(zip(times, names))\n",
    "data = list(map(lambda x: (x[1].split('.')[0].split('-'), x[0]), data))\n",
    "data = list(map(lambda x: (x[0][0], int(x[0][1]), x[1]), data))\n",
    "data"
   ]
  },
  {
   "cell_type": "code",
   "execution_count": 151,
   "id": "abd95339",
   "metadata": {},
   "outputs": [
    {
     "data": {
      "text/html": [
       "<div>\n",
       "<style scoped>\n",
       "    .dataframe tbody tr th:only-of-type {\n",
       "        vertical-align: middle;\n",
       "    }\n",
       "\n",
       "    .dataframe tbody tr th {\n",
       "        vertical-align: top;\n",
       "    }\n",
       "\n",
       "    .dataframe thead th {\n",
       "        text-align: right;\n",
       "    }\n",
       "</style>\n",
       "<table border=\"1\" class=\"dataframe\">\n",
       "  <thead>\n",
       "    <tr style=\"text-align: right;\">\n",
       "      <th></th>\n",
       "      <th>Type</th>\n",
       "      <th>#Machines</th>\n",
       "      <th>Time</th>\n",
       "    </tr>\n",
       "  </thead>\n",
       "  <tbody>\n",
       "    <tr>\n",
       "      <th>0</th>\n",
       "      <td>edge</td>\n",
       "      <td>2</td>\n",
       "      <td>12m6.433s</td>\n",
       "    </tr>\n",
       "    <tr>\n",
       "      <th>1</th>\n",
       "      <td>edge</td>\n",
       "      <td>4</td>\n",
       "      <td>13m22.580s</td>\n",
       "    </tr>\n",
       "    <tr>\n",
       "      <th>2</th>\n",
       "      <td>edge</td>\n",
       "      <td>8</td>\n",
       "      <td>14m7.557s</td>\n",
       "    </tr>\n",
       "    <tr>\n",
       "      <th>3</th>\n",
       "      <td>vertex</td>\n",
       "      <td>2</td>\n",
       "      <td>12m10.116s</td>\n",
       "    </tr>\n",
       "    <tr>\n",
       "      <th>4</th>\n",
       "      <td>vertex</td>\n",
       "      <td>4</td>\n",
       "      <td>12m13.724s</td>\n",
       "    </tr>\n",
       "    <tr>\n",
       "      <th>5</th>\n",
       "      <td>vertex</td>\n",
       "      <td>8</td>\n",
       "      <td>12m32.874s</td>\n",
       "    </tr>\n",
       "    <tr>\n",
       "      <th>6</th>\n",
       "      <td>hybrid</td>\n",
       "      <td>2</td>\n",
       "      <td>11m52.545s</td>\n",
       "    </tr>\n",
       "    <tr>\n",
       "      <th>7</th>\n",
       "      <td>hybrid</td>\n",
       "      <td>4</td>\n",
       "      <td>12m34.444s</td>\n",
       "    </tr>\n",
       "    <tr>\n",
       "      <th>8</th>\n",
       "      <td>hybrid</td>\n",
       "      <td>8</td>\n",
       "      <td>12m24.732s</td>\n",
       "    </tr>\n",
       "    <tr>\n",
       "      <th>9</th>\n",
       "      <td>greedy</td>\n",
       "      <td>2</td>\n",
       "      <td>20m31.258s</td>\n",
       "    </tr>\n",
       "    <tr>\n",
       "      <th>10</th>\n",
       "      <td>greedy</td>\n",
       "      <td>4</td>\n",
       "      <td>18m39.782s</td>\n",
       "    </tr>\n",
       "    <tr>\n",
       "      <th>11</th>\n",
       "      <td>greedy</td>\n",
       "      <td>8</td>\n",
       "      <td>22m5.591s</td>\n",
       "    </tr>\n",
       "  </tbody>\n",
       "</table>\n",
       "</div>"
      ],
      "text/plain": [
       "      Type  #Machines        Time\n",
       "0     edge          2   12m6.433s\n",
       "1     edge          4  13m22.580s\n",
       "2     edge          8   14m7.557s\n",
       "3   vertex          2  12m10.116s\n",
       "4   vertex          4  12m13.724s\n",
       "5   vertex          8  12m32.874s\n",
       "6   hybrid          2  11m52.545s\n",
       "7   hybrid          4  12m34.444s\n",
       "8   hybrid          8  12m24.732s\n",
       "9   greedy          2  20m31.258s\n",
       "10  greedy          4  18m39.782s\n",
       "11  greedy          8   22m5.591s"
      ]
     },
     "execution_count": 151,
     "metadata": {},
     "output_type": "execute_result"
    }
   ],
   "source": [
    "df = pd.DataFrame(data, columns=['Type', '#Machines','Time'])\n",
    "df"
   ]
  },
  {
   "cell_type": "code",
   "execution_count": 162,
   "id": "fc26ffe5",
   "metadata": {},
   "outputs": [
    {
     "name": "stdout",
     "output_type": "stream",
     "text": [
      "\\begin{tabular}{llrl}\n",
      "\\toprule\n",
      "{} &    Type &  \\#Machines &        Time \\\\\n",
      "\\midrule\n",
      "0  &    edge &          2 &   12m6.433s \\\\\n",
      "1  &    edge &          4 &  13m22.580s \\\\\n",
      "2  &    edge &          8 &   14m7.557s \\\\\n",
      "3  &  vertex &          2 &  12m10.116s \\\\\n",
      "4  &  vertex &          4 &  12m13.724s \\\\\n",
      "5  &  vertex &          8 &  12m32.874s \\\\\n",
      "6  &  hybrid &          2 &  11m52.545s \\\\\n",
      "7  &  hybrid &          4 &  12m34.444s \\\\\n",
      "8  &  hybrid &          8 &  12m24.732s \\\\\n",
      "9  &  greedy &          2 &  20m31.258s \\\\\n",
      "10 &  greedy &          4 &  18m39.782s \\\\\n",
      "11 &  greedy &          8 &   22m5.591s \\\\\n",
      "\\bottomrule\n",
      "\\end{tabular}\n",
      "\n"
     ]
    }
   ],
   "source": [
    "print(df.to_latex(columns=['Type', '#Machines', 'Time'], index_names=False))"
   ]
  },
  {
   "cell_type": "code",
   "execution_count": 204,
   "id": "bca76440",
   "metadata": {},
   "outputs": [
    {
     "data": {
      "text/plain": [
       "[('greedy', 4, 'synthesized', 'greedy-4-synthesized-1b.graph.out'),\n",
       " ('hybrid', 2, 'roadNet', 'hybrid-2-roadNet-PA.graph.out'),\n",
       " ('greedy', 4, 'roadNet', 'greedy-4-roadNet-PA.graph.out'),\n",
       " ('edge', 4, 'synthesized', 'edge-4-synthesized-1b.graph.out'),\n",
       " ('greedy', 8, 'roadNet', 'greedy-8-roadNet-PA.graph.out'),\n",
       " ('edge', 4, 'roadNet', 'edge-4-roadNet-PA.graph.out'),\n",
       " ('vertex', 4, 'roadNet', 'vertex-4-roadNet-PA.graph.out'),\n",
       " ('edge', 2, 'roadNet', 'edge-2-roadNet-PA.graph.out'),\n",
       " ('edge', 2, 'synthesized', 'edge-2-synthesized-1b.graph.out'),\n",
       " ('greedy', 8, 'synthesized', 'greedy-8-synthesized-1b.graph.out'),\n",
       " ('hybrid', 4, 'roadNet', 'hybrid-4-roadNet-PA.graph.out'),\n",
       " ('greedy', 2, 'synthesized', 'greedy-2-synthesized-1b.graph.out'),\n",
       " ('vertex', 2, 'roadNet', 'vertex-2-roadNet-PA.graph.out'),\n",
       " ('hybrid', 4, 'synthesized', 'hybrid-4-synthesized-1b.graph.out'),\n",
       " ('hybrid', 2, 'synthesized', 'hybrid-2-synthesized-1b.graph.out'),\n",
       " ('edge', 8, 'synthesized', 'edge-8-synthesized-1b.graph.out'),\n",
       " ('vertex', 4, 'synthesized', 'vertex-4-synthesized-1b.graph.out'),\n",
       " ('vertex', 2, 'synthesized', 'vertex-2-synthesized-1b.graph.out'),\n",
       " ('vertex', 8, 'roadNet', 'vertex-8-roadNet-PA.graph.out'),\n",
       " ('vertex', 8, 'synthesized', 'vertex-8-synthesized-1b.graph.out'),\n",
       " ('edge', 8, 'roadNet', 'edge-8-roadNet-PA.graph.out'),\n",
       " ('hybrid', 8, 'roadNet', 'hybrid-8-roadNet-PA.graph.out'),\n",
       " ('hybrid', 8, 'synthesized', 'hybrid-8-synthesized-1b.graph.out'),\n",
       " ('greedy', 2, 'roadNet', 'greedy-2-roadNet-PA.graph.out')]"
      ]
     },
     "execution_count": 204,
     "metadata": {},
     "output_type": "execute_result"
    }
   ],
   "source": [
    "files = list(map(lambda x: (x[:-10].split('-')[:-1], x), os.listdir('small_results/')))\n",
    "files = list(map(lambda x: (x[0][0],int(x[0][1]), x[0][2], x[1]), files))\n",
    "files"
   ]
  },
  {
   "cell_type": "code",
   "execution_count": null,
   "id": "c32c9063",
   "metadata": {},
   "outputs": [],
   "source": []
  }
 ],
 "metadata": {
  "kernelspec": {
   "display_name": "Python 3",
   "language": "python",
   "name": "python3"
  },
  "language_info": {
   "codemirror_mode": {
    "name": "ipython",
    "version": 3
   },
   "file_extension": ".py",
   "mimetype": "text/x-python",
   "name": "python",
   "nbconvert_exporter": "python",
   "pygments_lexer": "ipython3",
   "version": "3.6.9"
  }
 },
 "nbformat": 4,
 "nbformat_minor": 5
}
