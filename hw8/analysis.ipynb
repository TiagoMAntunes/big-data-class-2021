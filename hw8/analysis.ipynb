{
 "cells": [
  {
   "cell_type": "code",
   "execution_count": 1,
   "id": "1ad68df1",
   "metadata": {},
   "outputs": [],
   "source": [
    "import numpy as np\n",
    "import pandas as pd"
   ]
  },
  {
   "cell_type": "code",
   "execution_count": 5,
   "id": "2a36e22b",
   "metadata": {},
   "outputs": [],
   "source": [
    "roadnet= np.fromfile('roadNet-PA.graph', dtype=np.int32).reshape(-1,2)\n",
    "synthesized = np.fromfile('synthesized-1b.graph', dtype=np.int32).reshape(-1,2)"
   ]
  },
  {
   "cell_type": "code",
   "execution_count": 8,
   "id": "85e32957",
   "metadata": {},
   "outputs": [
    {
     "data": {
      "text/html": [
       "<div>\n",
       "<style scoped>\n",
       "    .dataframe tbody tr th:only-of-type {\n",
       "        vertical-align: middle;\n",
       "    }\n",
       "\n",
       "    .dataframe tbody tr th {\n",
       "        vertical-align: top;\n",
       "    }\n",
       "\n",
       "    .dataframe thead th {\n",
       "        text-align: right;\n",
       "    }\n",
       "</style>\n",
       "<table border=\"1\" class=\"dataframe\">\n",
       "  <thead>\n",
       "    <tr style=\"text-align: right;\">\n",
       "      <th></th>\n",
       "      <th>0</th>\n",
       "      <th>1</th>\n",
       "    </tr>\n",
       "  </thead>\n",
       "  <tbody>\n",
       "    <tr>\n",
       "      <th>0</th>\n",
       "      <td>0</td>\n",
       "      <td>1</td>\n",
       "    </tr>\n",
       "    <tr>\n",
       "      <th>1</th>\n",
       "      <td>0</td>\n",
       "      <td>6309</td>\n",
       "    </tr>\n",
       "    <tr>\n",
       "      <th>2</th>\n",
       "      <td>0</td>\n",
       "      <td>6353</td>\n",
       "    </tr>\n",
       "    <tr>\n",
       "      <th>3</th>\n",
       "      <td>1</td>\n",
       "      <td>0</td>\n",
       "    </tr>\n",
       "    <tr>\n",
       "      <th>4</th>\n",
       "      <td>6353</td>\n",
       "      <td>0</td>\n",
       "    </tr>\n",
       "    <tr>\n",
       "      <th>...</th>\n",
       "      <td>...</td>\n",
       "      <td>...</td>\n",
       "    </tr>\n",
       "    <tr>\n",
       "      <th>3083791</th>\n",
       "      <td>1090892</td>\n",
       "      <td>1090891</td>\n",
       "    </tr>\n",
       "    <tr>\n",
       "      <th>3083792</th>\n",
       "      <td>1090901</td>\n",
       "      <td>1090894</td>\n",
       "    </tr>\n",
       "    <tr>\n",
       "      <th>3083793</th>\n",
       "      <td>1090902</td>\n",
       "      <td>1090894</td>\n",
       "    </tr>\n",
       "    <tr>\n",
       "      <th>3083794</th>\n",
       "      <td>1090903</td>\n",
       "      <td>1090894</td>\n",
       "    </tr>\n",
       "    <tr>\n",
       "      <th>3083795</th>\n",
       "      <td>1090900</td>\n",
       "      <td>1090898</td>\n",
       "    </tr>\n",
       "  </tbody>\n",
       "</table>\n",
       "<p>3083796 rows × 2 columns</p>\n",
       "</div>"
      ],
      "text/plain": [
       "               0        1\n",
       "0              0        1\n",
       "1              0     6309\n",
       "2              0     6353\n",
       "3              1        0\n",
       "4           6353        0\n",
       "...          ...      ...\n",
       "3083791  1090892  1090891\n",
       "3083792  1090901  1090894\n",
       "3083793  1090902  1090894\n",
       "3083794  1090903  1090894\n",
       "3083795  1090900  1090898\n",
       "\n",
       "[3083796 rows x 2 columns]"
      ]
     },
     "execution_count": 8,
     "metadata": {},
     "output_type": "execute_result"
    }
   ],
   "source": [
    "roadnet_df = pd.DataFrame(roadnet)\n",
    "roadnet_df"
   ]
  },
  {
   "cell_type": "code",
   "execution_count": 15,
   "id": "9960f2c5",
   "metadata": {},
   "outputs": [],
   "source": [
    "roadnet_dist = roadnet_df[1].value_counts().value_counts()"
   ]
  },
  {
   "cell_type": "code",
   "execution_count": 27,
   "id": "43601a2c",
   "metadata": {},
   "outputs": [
    {
     "data": {
      "text/plain": [
       "<AxesSubplot:xlabel='In-Degree', ylabel='# Nodes'>"
      ]
     },
     "execution_count": 27,
     "metadata": {},
     "output_type": "execute_result"
    },
    {
     "data": {
      "image/png": "[encoded data removed]",
      "text/plain": [
       "<Figure size 432x288 with 1 Axes>"
      ]
     },
     "metadata": {
      "needs_background": "light"
     },
     "output_type": "display_data"
    }
   ],
   "source": [
    "roadnet_dist.sort_index().plot.bar(logy=True, xlabel='In-Degree', ylabel='# Nodes')"
   ]
  },
  {
   "cell_type": "code",
   "execution_count": 81,
   "id": "b68c0dcb",
   "metadata": {},
   "outputs": [],
   "source": [
    "roadnet_dist = roadnet_df[1].value_counts()"
   ]
  },
  {
   "cell_type": "code",
   "execution_count": 82,
   "id": "7d0bb9de",
   "metadata": {},
   "outputs": [
    {
     "data": {
      "text/plain": [
       "count    1.088092e+06\n",
       "mean     2.834132e+00\n",
       "std      1.016930e+00\n",
       "min      1.000000e+00\n",
       "25%      2.000000e+00\n",
       "50%      3.000000e+00\n",
       "75%      4.000000e+00\n",
       "max      9.000000e+00\n",
       "Name: 1, dtype: float64"
      ]
     },
     "execution_count": 82,
     "metadata": {},
     "output_type": "execute_result"
    }
   ],
   "source": [
    "roadnet_dist.describe()"
   ]
  },
  {
   "cell_type": "code",
   "execution_count": 91,
   "id": "152eeef5",
   "metadata": {},
   "outputs": [
    {
     "data": {
      "text/plain": [
       "4"
      ]
     },
     "execution_count": 91,
     "metadata": {},
     "output_type": "execute_result"
    }
   ],
   "source": [
    "roadnet_dist.quantile(q=0.94, interpolation='nearest')"
   ]
  },
  {
   "cell_type": "code",
   "execution_count": 29,
   "id": "81a58095",
   "metadata": {},
   "outputs": [
    {
     "data": {
      "text/html": [
       "<div>\n",
       "<style scoped>\n",
       "    .dataframe tbody tr th:only-of-type {\n",
       "        vertical-align: middle;\n",
       "    }\n",
       "\n",
       "    .dataframe tbody tr th {\n",
       "        vertical-align: top;\n",
       "    }\n",
       "\n",
       "    .dataframe thead th {\n",
       "        text-align: right;\n",
       "    }\n",
       "</style>\n",
       "<table border=\"1\" class=\"dataframe\">\n",
       "  <thead>\n",
       "    <tr style=\"text-align: right;\">\n",
       "      <th></th>\n",
       "      <th>0</th>\n",
       "      <th>1</th>\n",
       "    </tr>\n",
       "  </thead>\n",
       "  <tbody>\n",
       "    <tr>\n",
       "      <th>0</th>\n",
       "      <td>0</td>\n",
       "      <td>8099</td>\n",
       "    </tr>\n",
       "    <tr>\n",
       "      <th>1</th>\n",
       "      <td>0</td>\n",
       "      <td>699624</td>\n",
       "    </tr>\n",
       "    <tr>\n",
       "      <th>2</th>\n",
       "      <td>0</td>\n",
       "      <td>890784</td>\n",
       "    </tr>\n",
       "    <tr>\n",
       "      <th>3</th>\n",
       "      <td>1</td>\n",
       "      <td>208276</td>\n",
       "    </tr>\n",
       "    <tr>\n",
       "      <th>4</th>\n",
       "      <td>1</td>\n",
       "      <td>447854</td>\n",
       "    </tr>\n",
       "    <tr>\n",
       "      <th>...</th>\n",
       "      <td>...</td>\n",
       "      <td>...</td>\n",
       "    </tr>\n",
       "    <tr>\n",
       "      <th>4780359</th>\n",
       "      <td>999588</td>\n",
       "      <td>999987</td>\n",
       "    </tr>\n",
       "    <tr>\n",
       "      <th>4780360</th>\n",
       "      <td>999597</td>\n",
       "      <td>999828</td>\n",
       "    </tr>\n",
       "    <tr>\n",
       "      <th>4780361</th>\n",
       "      <td>999849</td>\n",
       "      <td>999958</td>\n",
       "    </tr>\n",
       "    <tr>\n",
       "      <th>4780362</th>\n",
       "      <td>999887</td>\n",
       "      <td>999958</td>\n",
       "    </tr>\n",
       "    <tr>\n",
       "      <th>4780363</th>\n",
       "      <td>999928</td>\n",
       "      <td>999952</td>\n",
       "    </tr>\n",
       "  </tbody>\n",
       "</table>\n",
       "<p>4780364 rows × 2 columns</p>\n",
       "</div>"
      ],
      "text/plain": [
       "              0       1\n",
       "0             0    8099\n",
       "1             0  699624\n",
       "2             0  890784\n",
       "3             1  208276\n",
       "4             1  447854\n",
       "...         ...     ...\n",
       "4780359  999588  999987\n",
       "4780360  999597  999828\n",
       "4780361  999849  999958\n",
       "4780362  999887  999958\n",
       "4780363  999928  999952\n",
       "\n",
       "[4780364 rows x 2 columns]"
      ]
     },
     "execution_count": 29,
     "metadata": {},
     "output_type": "execute_result"
    }
   ],
   "source": [
    "synthesized_df = pd.DataFrame(synthesized)\n",
    "synthesized_df"
   ]
  },
  {
   "cell_type": "code",
   "execution_count": 62,
   "id": "df28b560",
   "metadata": {},
   "outputs": [],
   "source": [
    "synthesized_dist = synthesized_df[1].value_counts()"
   ]
  },
  {
   "cell_type": "code",
   "execution_count": 80,
   "id": "989c5151",
   "metadata": {},
   "outputs": [
    {
     "data": {
      "text/plain": [
       "count    689558.000000\n",
       "mean          6.932505\n",
       "std         139.155045\n",
       "min           1.000000\n",
       "25%           1.000000\n",
       "50%           2.000000\n",
       "75%           3.000000\n",
       "max       53554.000000\n",
       "Name: 1, dtype: float64"
      ]
     },
     "execution_count": 80,
     "metadata": {},
     "output_type": "execute_result"
    }
   ],
   "source": [
    "synthesized_dist.describe()"
   ]
  },
  {
   "cell_type": "code",
   "execution_count": 90,
   "id": "44c2d265",
   "metadata": {},
   "outputs": [
    {
     "data": {
      "text/plain": [
       "12"
      ]
     },
     "execution_count": 90,
     "metadata": {},
     "output_type": "execute_result"
    }
   ],
   "source": [
    "synthesized_dist.quantile(q=0.94, interpolation='nearest')"
   ]
  }
 ],
 "metadata": {
  "kernelspec": {
   "display_name": "Python 3",
   "language": "python",
   "name": "python3"
  },
  "language_info": {
   "codemirror_mode": {
    "name": "ipython",
    "version": 3
   },
   "file_extension": ".py",
   "mimetype": "text/x-python",
   "name": "python",
   "nbconvert_exporter": "python",
   "pygments_lexer": "ipython3",
   "version": "3.6.9"
  }
 },
 "nbformat": 4,
 "nbformat_minor": 5
}
